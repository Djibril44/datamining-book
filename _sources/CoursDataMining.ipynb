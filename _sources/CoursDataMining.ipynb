{
 "cells": [
  {
   "cell_type": "markdown",
   "id": "629d20b7-8cc9-4ce3-a59f-42f0db4a2528",
   "metadata": {},
   "source": [
    "# Djibril diop\n",
    "\n",
    "You can also create content with Jupyter Notebooks. This means that you can include\n",
    "code blocks and their outputs in your book.\n",
    "\n",
    "## Markdown + notebooks\n",
    "\n",
    "As it is markdown, you can embed images, HTML, etc into your posts!\n",
    "\n",
    "![](https://myst-parser.readthedocs.io/en/latest/_static/logo-wide.svg)\n",
    "\n",
    "You can also $add_{math}$ and\n",
    "\n",
    "$$\n",
    "math^{blocks}\n",
    "$$\n",
    "\n",
    "or\n",
    "\n",
    "$$\n",
    "\\begin{aligned}\n",
    "\\mbox{mean} la_{tex} \\\\ \\\\\n",
    "math blocks\n",
    "\\end{aligned}\n",
    "$$\n",
    "\n",
    "But make sure you \\$Escape \\$your \\$dollar signs \\$you want to keep!\n",
    "\n",
    "## MyST markdown\n",
    "\n",
    "MyST markdown works in Jupyter Notebooks as well. For more information about MyST markdown, check\n",
    "out [the MyST guide in Jupyter Book](https://jupyterbook.org/content/myst.html),\n",
    "or see [the MyST markdown documentation](https://myst-parser.readthedocs.io/en/latest/).\n",
    "\n",
    "## Code blocks and outputs\n",
    "\n",
    "Jupyter Book will also embed your code blocks and output in your book.\n",
    "For example, here's some sample Matplotlib code:"
   ]
  },
  {
   "cell_type": "markdown",
   "id": "5b8f02bd-7504-4fd0-a46e-88a250f5e180",
   "metadata": {},
   "source": []
  },
  {
   "cell_type": "markdown",
   "id": "a467d731-35a5-49c5-821a-95b93ee2be09",
   "metadata": {},
   "source": []
  },
  {
   "cell_type": "markdown",
   "id": "fbbbe018-62bf-47c6-8817-d285e740a489",
   "metadata": {},
   "source": [
    "## Plan du Cours"
   ]
  },
  {
   "cell_type": "markdown",
   "id": "221e0805-d4db-47ec-b5a6-f894b09ee794",
   "metadata": {},
   "source": [
    "> 1. Définition et Origine du dataMining\n",
    "> 2. Datamning et statistique\n",
    "> 3. Domaine d'application du datamining\n",
    "> 4. Les taches du datamining"
   ]
  },
  {
   "cell_type": "markdown",
   "id": "ed17eee6-3377-47a9-8370-3f392edc24cf",
   "metadata": {},
   "source": [
    "## Définition"
   ]
  },
  {
   "cell_type": "markdown",
   "id": "ee0cfbc5-c0d6-46ac-aed7-2930a306d742",
   "metadata": {},
   "source": [
    ":::{tip} DataMining\n",
    "Le **DataMning** (fouille de données) est l'étude de la collecte, du netoyage du traitement, de l'analyse et l'obtention de renseignement utiles à partir des données\n",
    ":::"
   ]
  },
  {
   "cell_type": "markdown",
   "id": "cd6f6ba9-63ba-4dff-a4b7-502f2de0d733",
   "metadata": {},
   "source": [
    "## Intérêts"
   ]
  },
  {
   "cell_type": "markdown",
   "id": "e3f17fd1-7db3-4d3b-9d6e-27976185e2bc",
   "metadata": {},
   "source": [
    "\n",
    "- Tirer à partir des informations historisées disponibles autour d'une problematique de recherche ou d'un cas inductrielle\n",
    "- Limiter la subjectivité humaine dans le processus de décision\n",
    "  > - Passer d'une décision basée sur les hypothese construite de maniere empirique\n",
    "  > - à une décision basée sur des hypotheses vérifiées quantitativement\n"
   ]
  },
  {
   "cell_type": "markdown",
   "id": "80884419-6c74-4aad-90be-0d84a7a44f12",
   "metadata": {},
   "source": [
    "```{mermaid}\n",
    "flowchart LR\n",
    "  A[Data Source 1]-->D\n",
    "  B[Data Source 2]-->D\n",
    "  C[Data Source 2]-->D\n",
    "  D[Data Store]-->E[Prepared Data]-->F[Knowledge]\n",
    "  \n",
    "  "
   ]
  },
  {
   "cell_type": "markdown",
   "id": "60dc3fd8-1433-4e62-bb90-590a0878a86d",
   "metadata": {},
   "source": [
    "Le DataMining n'est qu'une partie (cruciale) du processus de découverte de connaissances"
   ]
  },
  {
   "cell_type": "markdown",
   "id": "feaa3591-2967-4682-9f4f-74c7de820a2d",
   "metadata": {},
   "source": [
    "## **Phase 1** - Processus de DataMining"
   ]
  },
  {
   "cell_type": "markdown",
   "id": "de5c3dda-633f-487e-8c3b-15a6a2a766e5",
   "metadata": {},
   "source": [
    "> - Déterminer les objectifs de l'entreprise\n",
    "> - Evaluer la situation\n",
    "> - Determiner les objectifs du DataMinig\n",
    "> - Produitre un plan de Projet"
   ]
  },
  {
   "cell_type": "markdown",
   "id": "9c2f09b9-06bd-44ab-853b-1bf1b3c083ab",
   "metadata": {},
   "source": [
    "## **Phase 2** - Compréhension de données"
   ]
  },
  {
   "cell_type": "markdown",
   "id": "b04cf899-0baa-4ceb-bff5-9e0202b07b7d",
   "metadata": {},
   "source": [
    "> - Collecter les données ititiales\n",
    "> - Décrire les données\n",
    "> - Explorer les données\n",
    "> - Vérifier la qualité des données\n"
   ]
  },
  {
   "cell_type": "markdown",
   "id": "618f6047-3249-4731-b62e-7532ac26d26d",
   "metadata": {},
   "source": [
    "## **Phase 3** - Préparation des données"
   ]
  },
  {
   "cell_type": "markdown",
   "id": "c9df1511-ed27-46a8-bdc8-74d97773f5f7",
   "metadata": {},
   "source": [
    ">- Selectionner les données\n",
    ">- Nettoyer les données\n",
    ">- Construire les données\n",
    ">- Intégrer les données"
   ]
  },
  {
   "cell_type": "markdown",
   "id": "0031e31b-8597-4a44-995a-4f3ff0e6ff97",
   "metadata": {},
   "source": [
    "## **Phase 4** - Modélisation"
   ]
  },
  {
   "cell_type": "markdown",
   "id": "91f10b3a-d676-4784-bd6e-66276f033140",
   "metadata": {},
   "source": [
    ">- Sélectionner les techniques de modélisation\n",
    ">- Générer une conception de test\n",
    ">- Construire le modèle\n",
    ">- Evaluer le modèle"
   ]
  },
  {
   "cell_type": "markdown",
   "id": "c8cc45d1-11c8-4e73-a5c7-b5d62029dedb",
   "metadata": {},
   "source": [
    "##  **Phase 5** - Evaluation"
   ]
  },
  {
   "cell_type": "markdown",
   "id": "ced7ae66-5ba3-48d9-97c3-1acc3b88d657",
   "metadata": {},
   "source": [
    ">- Evaluer les résultats\n",
    ">- Revoir le processus\n",
    ">- Determiner les prochaines étapes"
   ]
  },
  {
   "cell_type": "markdown",
   "id": "aa870cd6-3f4e-401a-b8f4-d5fe7c562ac0",
   "metadata": {},
   "source": [
    "## **Phase 6** - Déploiement"
   ]
  },
  {
   "cell_type": "markdown",
   "id": "cde2e3e4-ad5a-45be-8f48-fc3e7acf58a5",
   "metadata": {},
   "source": [
    ">- Planifier le dépliement\n",
    ">- Planifier le suivi et la maintenance\n",
    ">- Produire le rapport final\n",
    ">- Révision du projet"
   ]
  },
  {
   "cell_type": "markdown",
   "id": "2d4d5923-ce09-44f5-b5b6-218cc21ea4c8",
   "metadata": {},
   "source": [
    "## Statistique et Datamining"
   ]
  },
  {
   "cell_type": "markdown",
   "id": "b848d106-5bc1-46d2-882b-41c3ecc4bc91",
   "metadata": {},
   "source": [
    "Les statistiques et le datamining sont deux domaines étroitement liés mais distincts, chacun ayant des objectifs et des méthodes spécifiques\n",
    "\n",
    "### Statistiques\n",
    "\n",
    "```{note}\n",
    "   Les statistiques sont une branche des mathématiques qui se concentrent sur la collecte, l'analyse, l'interprétation, la présentation et l'organisation des données.\n",
    "```\n",
    "2. **Objectifs :**\n",
    "   - **Estimation et inférence :** Faire des déductions sur une population à partir d'un échantillon.\n",
    "   - **Tests d'hypothèses :** Vérifier des hypothèses prédéfinies sur les données.\n",
    "   - **Modélisation :** Construire des modèles mathématiques pour comprendre les relations entre les variables.\n",
    "   - **Prédiction :** Utiliser des modèles statistiques pour prédire des résultats futurs.\n",
    "\n",
    "3. **Méthodes :**\n",
    "   - **Descriptive :** Moyennes, médianes, variances, histogrammes, etc.\n",
    "   - **Inférentielle :** Tests t, ANOVA, régression linéaire, etc.\n",
    "   - **Exploratoire :** Analyse en composantes principales (PCA), analyse factorielle, etc.\n",
    "\n",
    "4. **Approche :**\n",
    "   - Les statistiques traditionnelles se concentrent souvent sur des échantillons plus petits et des tests paramétriques (qui supposent une certaine distribution des données).\n",
    "\n",
    "### Datamining\n",
    "\n",
    "```{note} \n",
    "   Le datamining est un processus d'extraction de connaissances à partir de grandes quantités de données. Il fait partie de la science des données et utilise des techniques de statistiques, d'apprentissage automatique et d'intelligence artificielle.\n",
    "```\n",
    "\n",
    "2. **Objectifs :**\n",
    "   - **Découverte de motifs :** Identifier des tendances, des associations ou des structures dans de grandes bases de données.\n",
    "   - **Classification :** Attribuer des objets à des catégories prédéfinies.\n",
    "   - **Clustering :** Grouper des objets similaires en clusters.\n",
    "   - **Prévision :** Prédire des valeurs futures ou des événements.\n",
    "   - **Anomalies :** Détecter des valeurs atypiques ou des comportements anormaux.\n",
    "\n",
    "3. **Méthodes :**\n",
    "   - **Apprentissage supervisé :** Régression, arbres de décision, réseaux de neurones, SVM, etc.\n",
    "   - **Apprentissage non supervisé :** K-means, DBSCAN, modèles de mélange gaussien, etc.\n",
    "   - **Apprentissage semi-supervisé :** Combinaison de données étiquetées et non étiquetées pour améliorer l'apprentissage.\n",
    "   - **Association :** Algorithmes d'association pour découvrir des relations entre les variables (ex. : règles d'association).\n",
    "\n",
    "4. **Approche :**\n",
    "   - Le datamining se concentre sur des ensembles de données très volumineux et utilise souvent des techniques d'apprentissage automatique et d'intelligence artificielle pour traiter et analyser les données.\n",
    "   - Il est souvent utilisé dans des contextes industriels et commerciaux pour exploiter de grandes bases de données (Big Data)."
   ]
  },
  {
   "cell_type": "markdown",
   "id": "a967e0de-3bad-46df-bb8c-7d3d3a7430f9",
   "metadata": {},
   "source": []
  },
  {
   "cell_type": "code",
   "execution_count": null,
   "id": "9d7f8fe1-6610-4d19-80ab-f532a97c7427",
   "metadata": {},
   "outputs": [],
   "source": []
  },
  {
   "cell_type": "code",
   "execution_count": null,
   "id": "08905fb6-3ffb-426d-b914-cafdfed38e89",
   "metadata": {},
   "outputs": [],
   "source": []
  },
  {
   "cell_type": "code",
   "execution_count": null,
   "id": "2d33898a-f727-4964-9ffe-ff35c2ca7d84",
   "metadata": {},
   "outputs": [],
   "source": []
  },
  {
   "cell_type": "markdown",
   "id": "4bd65191-426a-4d90-a172-507941bd375c",
   "metadata": {},
   "source": [
    "```{note}\n",
    "An admonition note!\n",
    "```"
   ]
  },
  {
   "cell_type": "markdown",
   "id": "4f3bf8b5-3adf-4e0d-ba5c-cf37d786b5d8",
   "metadata": {},
   "source": [
    ":::{seealso}\n",
    "Let's give readers a helpful hint!\n",
    ":::"
   ]
  },
  {
   "cell_type": "markdown",
   "id": "220de1bc-e787-43d4-aa6a-6444debeece3",
   "metadata": {},
   "source": [
    "{kbd}`Ctrl`"
   ]
  },
  {
   "cell_type": "markdown",
   "id": "740374f2-c158-48f3-95d5-92b1fec87d13",
   "metadata": {},
   "source": [
    "::::{grid} 1 1 2 3\n",
    ":::{card}\n",
    ":header: Text continue\n",
    "dhhdjjkjjdjkfkdjjf\n",
    ":::\n",
    "\n",
    ":::{card}\n",
    ":header: My first markdown\n",
    "ddddddddd\n",
    ":::"
   ]
  },
  {
   "cell_type": "code",
   "execution_count": null,
   "id": "6bf6577f-dacc-4627-987f-95814d905a1d",
   "metadata": {},
   "outputs": [],
   "source": [
    "from matplotlib import rcParams, cycler\n",
    "import matplotlib.pyplot as plt\n",
    "import numpy as np\n",
    "plt.ion()"
   ]
  },
  {
   "cell_type": "markdown",
   "id": "67f17c07-9803-4dcd-af9c-fea5afdae6fc",
   "metadata": {},
   "source": [
    "::::{tab-set}\n",
    ":::{tab-item} graphique\n",
    ":sync: tab1\n",
    "Tableau one\n",
    ":::\n",
    ":::{tab-item} Tableau\n",
    ":sync: tab2\n",
    "Tableau two\n",
    ":::"
   ]
  },
  {
   "cell_type": "markdown",
   "id": "9a7b07ed-6073-4cbf-bd59-5d4a32a0faad",
   "metadata": {},
   "source": [
    ":::{tip} Intérêt\n",
    ":class: dropdown\n",
    "l'obtention de renseignement utiles à partir des données\n",
    ":::"
   ]
  },
  {
   "cell_type": "code",
   "execution_count": null,
   "id": "630e3601-f938-489d-aa33-46f447fdb869",
   "metadata": {},
   "outputs": [],
   "source": []
  }
 ],
 "metadata": {
  "kernelspec": {
   "display_name": "Python 3 (ipykernel)",
   "language": "python",
   "name": "python3"
  },
  "language_info": {
   "codemirror_mode": {
    "name": "ipython",
    "version": 3
   },
   "file_extension": ".py",
   "mimetype": "text/x-python",
   "name": "python",
   "nbconvert_exporter": "python",
   "pygments_lexer": "ipython3",
   "version": "3.11.7"
  }
 },
 "nbformat": 4,
 "nbformat_minor": 5
}
